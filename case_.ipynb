{
 "cells": [
  {
   "cell_type": "code",
   "execution_count": 9,
   "metadata": {},
   "outputs": [
    {
     "name": "stdout",
     "output_type": "stream",
     "text": [
      "\bhello world "
     ]
    }
   ],
   "source": [
    "import time\n",
    "\n",
    "output = \"hello world\"#input(\"輸入文字\")\n",
    "for i in output:\n",
    "    for j in range(32,127):\n",
    "        print(f\"\\b{chr(j)}\",end=\"\")\n",
    "        time.sleep(0.005)\n",
    "        if i == chr(j):\n",
    "            print(end=\" \")\n",
    "            break"
   ]
  }
 ],
 "metadata": {
  "kernelspec": {
   "display_name": "Python 3",
   "language": "python",
   "name": "python3"
  },
  "language_info": {
   "codemirror_mode": {
    "name": "ipython",
    "version": 3
   },
   "file_extension": ".py",
   "mimetype": "text/x-python",
   "name": "python",
   "nbconvert_exporter": "python",
   "pygments_lexer": "ipython3",
   "version": "3.10.8"
  }
 },
 "nbformat": 4,
 "nbformat_minor": 2
}
